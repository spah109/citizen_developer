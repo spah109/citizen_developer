{
 "cells": [
  {
   "cell_type": "markdown",
   "id": "edbc25c4",
   "metadata": {},
   "source": [
    "# Jupyter Notebook 활용 및 Python 기초 리뷰\n",
    "\n",
    "### 주요 내용\n",
    "\n",
    "1. Jupyter notebook의 주요 기능 및 단축키 등 설명\n",
    "2. 라이브러리 활용 등 Python 기초 문법 리뷰\n",
    "\n",
    "<br>\n",
    "\n",
    "### 목표 \n",
    "1. Jupyter Notebook을 활용해서 Python 코드를 작성하고 실행할 수 있다.\n",
    "2. Python 기초 문법을 복습한다.\n",
    "\n",
    "\n",
    "<br>\n",
    "<hr>\n",
    "<br>"
   ]
  },
  {
   "cell_type": "markdown",
   "id": "efd228f4",
   "metadata": {},
   "source": [
    "## 1. Jupyter Notebook 사용법, 기능 및 단축키 소개\n",
    "\n",
    "jupyter notebook은 여러 cell을 수직적으로 결합해서 문서를 만들거나 분석을 수행  \n",
    "상단 메뉴바와 아이콘을 활용하여 cell을 추가, 제거, 이동, 복사 가능  \n",
    "cell에 명령어를 입력하고 실행해서 결과 확인  \n",
    "\n",
    "### 1.1. Jupyter notebok 주요 단축키 목록\n",
    "\n",
    "\n",
    "* 파란색 : 명령 모드(cell의 추가, 복사, 삭제 등), \"ESC\"\n",
    "  - `H` : 단축키 목록 팝업\n",
    "  - `A` : 위에 cell 추가 \n",
    "  - `B` : 아래에 cell 추가\n",
    "  - `위/아래 화살표` : cell 이동\n",
    "  - `D, D` : cell 삭제\n",
    "  - `M` : cell을 Markdown(문서 작성) 형식으로 변경\n",
    "  - `Y` : cell을 Code(명령어 작성) 형식으로 변경\n",
    "  - `S`, `Ctrl + S` : 저장\n",
    "  \n",
    "  \n",
    "* 초록색 : 수정 모드(각 cell 안에서 명령어 등 입력), \"ENTER\"\n",
    "  - `Tab` : 들여쓰기 혹은 코드 완성\n",
    "  - `Shift + Tab` : 들여쓰기 취소 혹은 툴팁(도움말)\n",
    "  - `Ctrl + /` : 주석처리/해제\n",
    "\n",
    "* cell 실행 \n",
    "  - `Shift + Enter` : 실행하고 다음 cell로 이동\n",
    "  - `Ctrl + Enter` : 실행\n",
    "  \n",
    "\n",
    "<br>\n",
    "\n",
    "\n",
    "\n"
   ]
  },
  {
   "cell_type": "code",
   "execution_count": null,
   "id": "ad02eaa0",
   "metadata": {},
   "outputs": [],
   "source": [
    "# \"#\"을 붙여서 주석(comment)을 달 수 있습니다."
   ]
  },
  {
   "cell_type": "markdown",
   "id": "766b1739-ceb1-4df6-91e0-3c27842d18b0",
   "metadata": {},
   "source": [
    "\n",
    "<br>\n",
    "<hr>\n",
    "<br>\n",
    "\n",
    "\n",
    "## 2. Python 기초 문법 리뷰"
   ]
  },
  {
   "cell_type": "markdown",
   "id": "3ff837c5-1b8b-4b10-81cd-fe9bc27ca6bb",
   "metadata": {},
   "source": [
    "### 2-1. 리스트(list)의 활용"
   ]
  },
  {
   "cell_type": "code",
   "execution_count": 17,
   "id": "03f4558b-0f5f-4ba5-8b01-8ba2a7aa094c",
   "metadata": {},
   "outputs": [
    {
     "data": {
      "text/plain": [
       "[5000, 6000, 7000, 6000, 9000]"
      ]
     },
     "execution_count": 17,
     "metadata": {},
     "output_type": "execute_result"
    }
   ],
   "source": [
    "# 리스트 만들기\n",
    "salary = [5000, 6000, 7000, 6000, 9000]\n",
    "salary"
   ]
  },
  {
   "cell_type": "code",
   "execution_count": 18,
   "id": "ceaf8208-8913-4075-80ca-9288c7aba8f0",
   "metadata": {},
   "outputs": [
    {
     "data": {
      "text/plain": [
       "[5000, 6000, 7000, 6000, 9000, 10000]"
      ]
     },
     "execution_count": 18,
     "metadata": {},
     "output_type": "execute_result"
    }
   ],
   "source": [
    "# 리스트의 메서드(method) append() 활용\n",
    "salary.append(10000)\n",
    "salary"
   ]
  },
  {
   "cell_type": "code",
   "execution_count": 19,
   "id": "b7f1be6d-623b-496e-8ae0-347665b9dd23",
   "metadata": {},
   "outputs": [
    {
     "data": {
      "text/plain": [
       "5000"
      ]
     },
     "execution_count": 19,
     "metadata": {},
     "output_type": "execute_result"
    }
   ],
   "source": [
    "# 인덱싱(indexing)\n",
    "salary[0] "
   ]
  },
  {
   "cell_type": "code",
   "execution_count": 20,
   "id": "12c4d536-6b3f-42d8-aa39-faca9cf5f06a",
   "metadata": {},
   "outputs": [
    {
     "data": {
      "text/plain": [
       "[5000, 6000]"
      ]
     },
     "execution_count": 20,
     "metadata": {},
     "output_type": "execute_result"
    }
   ],
   "source": [
    "# 슬라이싱(slicing)\n",
    "salary[0:2]"
   ]
  },
  {
   "cell_type": "code",
   "execution_count": 21,
   "id": "13fadea4-5ebd-487e-9996-e925cbf9467d",
   "metadata": {},
   "outputs": [
    {
     "data": {
      "text/plain": [
       "list"
      ]
     },
     "execution_count": 21,
     "metadata": {},
     "output_type": "execute_result"
    }
   ],
   "source": [
    "# 형식(type) 확인\n",
    "type(salary)"
   ]
  },
  {
   "cell_type": "code",
   "execution_count": 22,
   "id": "84ce2ff5-3a52-4fcd-ad8f-8d55f1b32831",
   "metadata": {},
   "outputs": [
    {
     "data": {
      "text/plain": [
       "[0, 1, 2, 3, 4, 5, 6, 7, 8, 9]"
      ]
     },
     "execution_count": 22,
     "metadata": {},
     "output_type": "execute_result"
    }
   ],
   "source": [
    "# 형식 변환\n",
    "list(range(10))"
   ]
  },
  {
   "cell_type": "markdown",
   "id": "85c1561a-c968-4966-86fa-1745e959a375",
   "metadata": {},
   "source": [
    "### 2-2. 라이브러리(library)의 활용"
   ]
  },
  {
   "cell_type": "markdown",
   "id": "68873cc3-2b4e-4db7-a993-1082faaa8a14",
   "metadata": {},
   "source": [
    "#### 2-2-1. Library 설치 확인\n",
    "\n",
    "* 4개 결과 출력여부 확인\n",
    "    - openpyxl\n",
    "    - pandas\n",
    "    - plotly\n",
    "    - seaborn"
   ]
  },
  {
   "cell_type": "code",
   "execution_count": null,
   "id": "d0b9273b-0cc7-490d-af2f-cc29d87a381a",
   "metadata": {},
   "outputs": [],
   "source": [
    "# pip 활용 라이브러리 설치\n",
    "# !pip install numpy pandas matplotlib seaborn plotly xlrd openpyxl"
   ]
  },
  {
   "cell_type": "code",
   "execution_count": 7,
   "id": "d3ae205a",
   "metadata": {},
   "outputs": [
    {
     "name": "stdout",
     "output_type": "stream",
     "text": [
      "openpyxl                      3.0.10\n",
      "pandas                        2.0.3\n",
      "plotly                        5.9.0\n",
      "seaborn                       0.12.2\n"
     ]
    }
   ],
   "source": [
    "# Windows \n",
    "!pip list | findstr /r \"pandas seaborn plotly openpyxl\""
   ]
  },
  {
   "cell_type": "code",
   "execution_count": null,
   "id": "7c0aa825-915e-4cf8-84b3-ce47f9ae4a24",
   "metadata": {},
   "outputs": [],
   "source": [
    "# macOS\n",
    "# !pip list | grep -E '^pandas |seaborn |plotly |openpyxl '"
   ]
  },
  {
   "cell_type": "markdown",
   "id": "0e8f158d-967b-4c6a-9a6e-8bf4c24a55a3",
   "metadata": {},
   "source": [
    "#### 2-2-2. 라이브러리 활용 예제"
   ]
  },
  {
   "cell_type": "code",
   "execution_count": 2,
   "id": "ef44a468-d843-4c36-ad33-1beb4917792a",
   "metadata": {},
   "outputs": [],
   "source": [
    "# 라이브러리 불러오기\n",
    "import os"
   ]
  },
  {
   "cell_type": "code",
   "execution_count": 4,
   "id": "84d8877f-91b2-412f-abf7-77963b8dd682",
   "metadata": {},
   "outputs": [
    {
     "data": {
      "text/plain": [
       "'d:\\\\python\\\\Python_data'"
      ]
     },
     "execution_count": 4,
     "metadata": {},
     "output_type": "execute_result"
    }
   ],
   "source": [
    "# 라이브러리 내 함수 등의 활용\n",
    "os.getcwd()"
   ]
  },
  {
   "cell_type": "code",
   "execution_count": 5,
   "metadata": {},
   "outputs": [
    {
     "data": {
      "text/plain": [
       "8"
      ]
     },
     "execution_count": 5,
     "metadata": {},
     "output_type": "execute_result"
    }
   ],
   "source": [
    "os.cpu_count()"
   ]
  },
  {
   "cell_type": "code",
   "execution_count": 7,
   "id": "9a4db49c-f37b-493a-b0a8-34e276463fc6",
   "metadata": {},
   "outputs": [
    {
     "data": {
      "text/plain": [
       "datetime.date(2023, 12, 5)"
      ]
     },
     "execution_count": 7,
     "metadata": {},
     "output_type": "execute_result"
    }
   ],
   "source": [
    "# 다양한 라이브러리 활용\n",
    "from datetime import date as dt\n",
    "dt.today()"
   ]
  },
  {
   "cell_type": "markdown",
   "id": "200a702d",
   "metadata": {},
   "source": [
    "#### End of script"
   ]
  }
 ],
 "metadata": {
  "kernelspec": {
   "display_name": "Python 3 (ipykernel)",
   "language": "python",
   "name": "python3"
  },
  "language_info": {
   "codemirror_mode": {
    "name": "ipython",
    "version": 3
   },
   "file_extension": ".py",
   "mimetype": "text/x-python",
   "name": "python",
   "nbconvert_exporter": "python",
   "pygments_lexer": "ipython3",
   "version": "3.11.5"
  }
 },
 "nbformat": 4,
 "nbformat_minor": 5
}
