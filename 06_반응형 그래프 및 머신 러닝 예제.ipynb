{
 "cells": [
  {
   "cell_type": "markdown",
   "id": "a87fec6c",
   "metadata": {},
   "source": [
    "# 반응형 그래프 및 머신 러닝 예제\n",
    "\n",
    "### 주요 내용\n",
    "\n",
    "1. plotly를 활용한 반응형 그래프 생성 예제\n",
    "2. sklearn을 활용한 머신 러닝 예제\n",
    "\n",
    "<br>\n",
    "<hr>\n",
    "<br>"
   ]
  },
  {
   "cell_type": "markdown",
   "id": "9e7039ec",
   "metadata": {},
   "source": [
    "## 예제 및 실습 데이터 불러오기"
   ]
  },
  {
   "cell_type": "code",
   "execution_count": null,
   "id": "d8b0a22e",
   "metadata": {
    "tags": []
   },
   "outputs": [],
   "source": [
    "# 데이터 불러오기\n",
    "import pandas as pd\n",
    "df_ins = pd.read_csv('data/insurance.csv')\n",
    "df_ins.head()"
   ]
  },
  {
   "cell_type": "code",
   "execution_count": null,
   "id": "66448535",
   "metadata": {
    "scrolled": true,
    "tags": []
   },
   "outputs": [],
   "source": [
    "df_sp = pd.read_csv('data/StudentsPerformance.csv')\n",
    "df_sp.head()"
   ]
  },
  {
   "cell_type": "markdown",
   "id": "d795f598",
   "metadata": {},
   "source": [
    "<br>\n",
    "<hr>\n",
    "<br>\n",
    "\n",
    "## 1. 반응형 그래프의 활용\n",
    "\n",
    "**plotly**를 활용해서 반응형 그래프를 그려서 탐색적 데이터 분석(EDA) 과정에서 유용하게 활용 가능\n",
    "\n",
    "* 참고: [Plotly](https://plotly.com/python/)"
   ]
  },
  {
   "cell_type": "code",
   "execution_count": null,
   "id": "a8513271-67d1-420c-a470-46f3d562e0b7",
   "metadata": {
    "tags": []
   },
   "outputs": [],
   "source": [
    "import seaborn as sns\n",
    "import plotly.express as px"
   ]
  },
  {
   "cell_type": "code",
   "execution_count": null,
   "id": "a6e6b690",
   "metadata": {
    "tags": []
   },
   "outputs": [],
   "source": [
    "# seaborn을 활용한 산점도 \n",
    "sns.scatterplot(data=df_ins, \n",
    "                x='bmi',\n",
    "                y='charges', \n",
    "                hue='smoker')"
   ]
  },
  {
   "cell_type": "code",
   "execution_count": null,
   "id": "348c21e3",
   "metadata": {
    "tags": []
   },
   "outputs": [],
   "source": [
    "px.scatter(df_ins,\n",
    "           x='bmi',\n",
    "           y='charges', \n",
    "           color='smoker', width=600)"
   ]
  },
  {
   "cell_type": "code",
   "execution_count": null,
   "id": "2f45cd75",
   "metadata": {},
   "outputs": [],
   "source": [
    "# 다양한 옵션의 활용\n",
    "px.scatter(df_ins,\n",
    "           x='bmi',\n",
    "           y='charges', \n",
    "           color='smoker', \n",
    "           size='age', \n",
    "           symbol='region', width=800)"
   ]
  },
  {
   "cell_type": "code",
   "execution_count": null,
   "id": "835a6e10",
   "metadata": {},
   "outputs": [],
   "source": [
    "# facet(분할)의 활용\n",
    "px.scatter(df_ins,\n",
    "           x='bmi',\n",
    "           y='charges', \n",
    "           color='smoker', \n",
    "           facet_row='sex', \n",
    "           facet_col='region', \n",
    "           width=800, \n",
    "           template='simple_white')"
   ]
  },
  {
   "cell_type": "code",
   "execution_count": null,
   "id": "a2b4ed34",
   "metadata": {},
   "outputs": [],
   "source": [
    "# plotly 그래프가 나오지 않을 때 실행\n",
    "# import plotly.offline as pyo\n",
    "# pyo.init_notebook_mode()"
   ]
  },
  {
   "cell_type": "markdown",
   "id": "c12d9c25",
   "metadata": {},
   "source": [
    "#### [실습]\n",
    "1. df_sp에서 `parental level of education`별로 색을 다르게 한  `math score`와 `reading score`의 산점도 그리기 \n",
    "2. plotly로 다양한 그래프 작성해보기"
   ]
  },
  {
   "cell_type": "code",
   "execution_count": null,
   "id": "9ae5effb",
   "metadata": {},
   "outputs": [],
   "source": []
  },
  {
   "cell_type": "code",
   "execution_count": null,
   "id": "2d6f0859",
   "metadata": {},
   "outputs": [],
   "source": []
  },
  {
   "cell_type": "markdown",
   "id": "c1103de0-3b1a-47ad-9cb1-a4c6db2b10d4",
   "metadata": {},
   "source": [
    "## 2. 머신 러닝을 활용한 요인 탐색"
   ]
  },
  {
   "cell_type": "code",
   "execution_count": null,
   "id": "174aac06-b67c-4e0f-976c-b6366f44e97e",
   "metadata": {},
   "outputs": [],
   "source": [
    "from sklearn import tree\n",
    "from sklearn.preprocessing import OneHotEncoder"
   ]
  },
  {
   "cell_type": "code",
   "execution_count": null,
   "id": "a29a13f1-cba0-4ab4-b654-c17cf7b9c39b",
   "metadata": {},
   "outputs": [],
   "source": [
    "# 데이터 처리\n",
    "y = df_ins['charges']\n",
    "X = pd.get_dummies(df_ins.drop(columns='charges'), drop_first=True)\n",
    "X"
   ]
  },
  {
   "cell_type": "code",
   "execution_count": null,
   "id": "1d83d760-51a1-459a-9460-7bc244c7f6c1",
   "metadata": {},
   "outputs": [],
   "source": [
    "# 모형 적합\n",
    "model = tree.DecisionTreeRegressor(max_depth=4)\n",
    "model.fit(X, y)"
   ]
  },
  {
   "cell_type": "code",
   "execution_count": null,
   "id": "b54e01e0-fbe6-4ce0-9304-7dbf8893d321",
   "metadata": {},
   "outputs": [],
   "source": [
    "# 모형 시각화\n",
    "import matplotlib.pyplot as plt\n",
    "plt.figure(figsize=[12, 8])\n",
    "tree.plot_tree(model, fontsize=8, max_depth=3, filled=True, feature_names=list(X.columns))\n",
    "plt.show()"
   ]
  },
  {
   "cell_type": "markdown",
   "id": "d4ad599a",
   "metadata": {},
   "source": [
    "#### End of script"
   ]
  }
 ],
 "metadata": {
  "kernelspec": {
   "display_name": "Python 3 (ipykernel)",
   "language": "python",
   "name": "python3"
  },
  "language_info": {
   "codemirror_mode": {
    "name": "ipython",
    "version": 3
   },
   "file_extension": ".py",
   "mimetype": "text/x-python",
   "name": "python",
   "nbconvert_exporter": "python",
   "pygments_lexer": "ipython3",
   "version": "3.11.4"
  }
 },
 "nbformat": 4,
 "nbformat_minor": 5
}
